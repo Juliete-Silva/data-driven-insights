{
  "nbformat": 4,
  "nbformat_minor": 0,
  "metadata": {
    "colab": {
      "provenance": []
    },
    "kernelspec": {
      "name": "python3",
      "display_name": "Python 3"
    },
    "language_info": {
      "name": "python"
    }
  },
  "cells": [
    {
      "cell_type": "markdown",
      "source": [
        "#**Mine Projeto: Data-Driven Insights**\n",
        "###Autor: Juliete da Silva"
      ],
      "metadata": {
        "id": "gc4-Qqyi80mi"
      }
    },
    {
      "cell_type": "markdown",
      "source": [
        "###1. Importando bibliotecas"
      ],
      "metadata": {
        "id": "xF3bsVPM-wTK"
      }
    },
    {
      "cell_type": "code",
      "execution_count": 54,
      "metadata": {
        "id": "Z1_lmDBs5sHC"
      },
      "outputs": [],
      "source": [
        "import pandas as pd  # Para análise de dados em tabelas\n",
        "import numpy as np    # Para operações com números e vetores\n",
        "import matplotlib.pyplot as plt  # Para fazer gráficos"
      ]
    },
    {
      "cell_type": "markdown",
      "source": [
        "###2. Carregamento e exploração inicial"
      ],
      "metadata": {
        "id": "K9prv-xy_Qdm"
      }
    },
    {
      "cell_type": "code",
      "source": [
        "# Carregando o arquivo CSV\n",
        "df = pd.read_csv('sales_data_sample.csv', encoding='latin1')"
      ],
      "metadata": {
        "id": "aiYZiwS7_OLD"
      },
      "execution_count": 55,
      "outputs": []
    },
    {
      "cell_type": "code",
      "source": [
        "#Listando as cinco primeiras linhas para exploração inicial do dataset\n",
        "print(\"As 5 primeiras linhas do DataFrame:\")\n",
        "print(df.head())"
      ],
      "metadata": {
        "colab": {
          "base_uri": "https://localhost:8080/"
        },
        "id": "JFj0pC8qBIsB",
        "outputId": "e1820822-49ca-44ff-cb2d-2878c72605b8"
      },
      "execution_count": 56,
      "outputs": [
        {
          "output_type": "stream",
          "name": "stdout",
          "text": [
            "As 5 primeiras linhas do DataFrame:\n",
            "  ORDERNUMBER  QUANTITYORDERED  PRICEEACH  ORDERLINENUMBER    SALES  \\\n",
            "0       10107             30.0      95.70              2.0  2871.00   \n",
            "1       10121             34.0      81.35              5.0  2765.90   \n",
            "2       10134             41.0      94.74              2.0  3884.34   \n",
            "3       10145             45.0      83.26              6.0  3746.70   \n",
            "4       10159             49.0     100.00             14.0  5205.27   \n",
            "\n",
            "         ORDERDATE   STATUS  QTR_ID  MONTH_ID  YEAR_ID  ...  \\\n",
            "0   2/24/2003 0:00  Shipped     1.0       2.0   2003.0  ...   \n",
            "1    5/7/2003 0:00  Shipped     2.0       5.0   2003.0  ...   \n",
            "2    7/1/2003 0:00  Shipped     3.0       7.0   2003.0  ...   \n",
            "3   8/25/2003 0:00  Shipped     3.0       8.0   2003.0  ...   \n",
            "4  10/10/2003 0:00  Shipped     4.0      10.0   2003.0  ...   \n",
            "\n",
            "                    ADDRESSLINE1  ADDRESSLINE2           CITY STATE  \\\n",
            "0        897 Long Airport Avenue           NaN            NYC    NY   \n",
            "1             59 rue de l'Abbaye           NaN          Reims   NaN   \n",
            "2  27 rue du Colonel Pierre Avia           NaN          Paris   NaN   \n",
            "3             78934 Hillside Dr.           NaN       Pasadena    CA   \n",
            "4                7734 Strong St.           NaN  San Francisco    CA   \n",
            "\n",
            "  POSTALCODE COUNTRY TERRITORY CONTACTLASTNAME CONTACTFIRSTNAME DEALSIZE  \n",
            "0      10022     USA       NaN              Yu             Kwai    Small  \n",
            "1      51100  France      EMEA         Henriot             Paul    Small  \n",
            "2      75508  France      EMEA        Da Cunha           Daniel   Medium  \n",
            "3      90003     USA       NaN           Young            Julie   Medium  \n",
            "4        NaN     USA       NaN           Brown            Julie   Medium  \n",
            "\n",
            "[5 rows x 25 columns]\n"
          ]
        }
      ]
    },
    {
      "cell_type": "code",
      "source": [
        "#Listando a quantidade de linhas e colunas\n",
        "print(\"\\nShape (linhas, colunas):\", df.shape)"
      ],
      "metadata": {
        "colab": {
          "base_uri": "https://localhost:8080/"
        },
        "id": "6vBJvgtJCa9G",
        "outputId": "dfb5364e-508b-4ba6-efaa-77aad89630cb"
      },
      "execution_count": 57,
      "outputs": [
        {
          "output_type": "stream",
          "name": "stdout",
          "text": [
            "\n",
            "Shape (linhas, colunas): (2823, 25)\n"
          ]
        }
      ]
    },
    {
      "cell_type": "code",
      "source": [
        "#Listando as colunas\n",
        "print(\"\\nNome das colunas:\", df.columns)"
      ],
      "metadata": {
        "colab": {
          "base_uri": "https://localhost:8080/"
        },
        "id": "sZIa-yqiEMGq",
        "outputId": "6c6d3c85-3d3a-487c-bd84-53f659494d47"
      },
      "execution_count": 58,
      "outputs": [
        {
          "output_type": "stream",
          "name": "stdout",
          "text": [
            "\n",
            "Nome das colunas: Index(['ORDERNUMBER', 'QUANTITYORDERED', 'PRICEEACH', 'ORDERLINENUMBER',\n",
            "       'SALES', 'ORDERDATE', 'STATUS', 'QTR_ID', 'MONTH_ID', 'YEAR_ID',\n",
            "       'PRODUCTLINE', 'MSRP', 'PRODUCTCODE', 'CUSTOMERNAME', 'PHONE',\n",
            "       'ADDRESSLINE1', 'ADDRESSLINE2', 'CITY', 'STATE', 'POSTALCODE',\n",
            "       'COUNTRY', 'TERRITORY', 'CONTACTLASTNAME', 'CONTACTFIRSTNAME',\n",
            "       'DEALSIZE'],\n",
            "      dtype='object')\n"
          ]
        }
      ]
    },
    {
      "cell_type": "code",
      "source": [
        "print(\"\\nTipos de dados:\")\n",
        "print(df.dtypes)"
      ],
      "metadata": {
        "colab": {
          "base_uri": "https://localhost:8080/"
        },
        "id": "cOEBROPVGtTC",
        "outputId": "9e6efe73-ee24-497b-9523-94eec8e8f090"
      },
      "execution_count": 59,
      "outputs": [
        {
          "output_type": "stream",
          "name": "stdout",
          "text": [
            "\n",
            "Tipos de dados:\n",
            "ORDERNUMBER          object\n",
            "QUANTITYORDERED     float64\n",
            "PRICEEACH           float64\n",
            "ORDERLINENUMBER     float64\n",
            "SALES               float64\n",
            "ORDERDATE            object\n",
            "STATUS               object\n",
            "QTR_ID              float64\n",
            "MONTH_ID            float64\n",
            "YEAR_ID             float64\n",
            "PRODUCTLINE          object\n",
            "MSRP                float64\n",
            "PRODUCTCODE          object\n",
            "CUSTOMERNAME         object\n",
            "PHONE                object\n",
            "ADDRESSLINE1         object\n",
            "ADDRESSLINE2         object\n",
            "CITY                 object\n",
            "STATE                object\n",
            "POSTALCODE           object\n",
            "COUNTRY              object\n",
            "TERRITORY            object\n",
            "CONTACTLASTNAME      object\n",
            "CONTACTFIRSTNAME     object\n",
            "DEALSIZE             object\n",
            "dtype: object\n"
          ]
        }
      ]
    },
    {
      "cell_type": "markdown",
      "source": [
        "###3. Trabalhando com Listas, Dicionários e Tuplas"
      ],
      "metadata": {
        "id": "HBCB6jdUJa-H"
      }
    },
    {
      "cell_type": "code",
      "source": [
        "# Criando uma lista com os primeiros nomes da coluna PRODUCTLINE\n",
        "nomes = list(df['PRODUCTLINE'])\n",
        "for nome in nomes[:5]:\n",
        "    print(nome)\n"
      ],
      "metadata": {
        "colab": {
          "base_uri": "https://localhost:8080/"
        },
        "id": "LKD1iDrCHCSZ",
        "outputId": "27d0efde-a295-401a-d6b2-2202ebfd0a33"
      },
      "execution_count": 60,
      "outputs": [
        {
          "output_type": "stream",
          "name": "stdout",
          "text": [
            "Motorcycles\n",
            "Motorcycles\n",
            "Motorcycles\n",
            "Motorcycles\n",
            "Motorcycles\n"
          ]
        }
      ]
    },
    {
      "cell_type": "code",
      "source": [
        "# Criando um dicionário com pares: produto : cliente\n",
        "dicionario = dict(zip(df['PRODUCTLINE'][:3], df['CUSTOMERNAME'][:3]))\n",
        "print(dicionario)"
      ],
      "metadata": {
        "colab": {
          "base_uri": "https://localhost:8080/"
        },
        "id": "cicZ1jFyLWhx",
        "outputId": "e43e28bb-7354-478e-948c-4a2ce90cec69"
      },
      "execution_count": 61,
      "outputs": [
        {
          "output_type": "stream",
          "name": "stdout",
          "text": [
            "{'Motorcycles': 'Lyon Souveniers'}\n"
          ]
        }
      ]
    },
    {
      "cell_type": "code",
      "source": [
        "# Criando uma tupla com dados mistos da primeira linha\n",
        "linha0 = df.iloc[0]\n",
        "minha_tupla = (linha0['PRODUCTLINE'], linha0['CUSTOMERNAME'], linha0['PRICEEACH'])\n",
        "print(minha_tupla)"
      ],
      "metadata": {
        "colab": {
          "base_uri": "https://localhost:8080/"
        },
        "id": "sOIn4cvCVNRB",
        "outputId": "99aa5b03-4a71-4500-aa2f-f7624ad015e9"
      },
      "execution_count": 62,
      "outputs": [
        {
          "output_type": "stream",
          "name": "stdout",
          "text": [
            "('Motorcycles', 'Land of Toys Inc.', np.float64(95.7))\n"
          ]
        }
      ]
    },
    {
      "cell_type": "markdown",
      "source": [
        "Observei quando listei os 5 primeiros valores da coluna PRODUCTLINE, que todos pertencem à categoria “Motorcycles”, sugerindo grande concentração de vendas nessa linha de produto nas primeiras linhas dessa base.\n",
        "Ao criar o dicionário produto:cliente, apenas um par foi retornado — {'Motorcycles': 'Lyon Souveniers'} — pois todas as chaves eram repetidas e o dicionário manteve apenas o último valor."
      ],
      "metadata": {
        "id": "0FkRVHA4Ujru"
      }
    },
    {
      "cell_type": "markdown",
      "source": [
        "###4. Estruturas Condicionais e Laços"
      ],
      "metadata": {
        "id": "XhbEvCX2oBag"
      }
    },
    {
      "cell_type": "code",
      "source": [
        "#Aqui pegamos o primeiro número da coluna que escolhemos, para testar com condições\n",
        "coluna_numerica = 'SALES'\n",
        "primeiro_valor = df[coluna_numerica][0]"
      ],
      "metadata": {
        "id": "1qtyZmjBZQ6c"
      },
      "execution_count": 63,
      "outputs": []
    },
    {
      "cell_type": "code",
      "source": [
        "# Condição simples para classificar o valor\n",
        "if primeiro_valor > 100:\n",
        "    print(\"Valor alto\")\n",
        "elif primeiro_valor > 50:\n",
        "    print(\"Valor intermediário\")\n",
        "else:\n",
        "    print(\"Valor baixo\")"
      ],
      "metadata": {
        "colab": {
          "base_uri": "https://localhost:8080/"
        },
        "id": "kTh5vO7fcdhZ",
        "outputId": "814c463d-7918-4246-efc9-39c492ed9297"
      },
      "execution_count": 64,
      "outputs": [
        {
          "output_type": "stream",
          "name": "stdout",
          "text": [
            "Valor alto\n"
          ]
        }
      ]
    },
    {
      "cell_type": "code",
      "source": [
        "#Identificando o valor encontrado da condição\n",
        "print(df[coluna_numerica][0])"
      ],
      "metadata": {
        "colab": {
          "base_uri": "https://localhost:8080/"
        },
        "id": "4uJnkj-NctiE",
        "outputId": "563aa281-170b-4b62-bd92-6d6cddeb4f32"
      },
      "execution_count": 65,
      "outputs": [
        {
          "output_type": "stream",
          "name": "stdout",
          "text": [
            "2871.0\n"
          ]
        }
      ]
    },
    {
      "cell_type": "code",
      "source": [
        "# Usando for para somar os primeiros 5 valores da coluna SALES\n",
        "soma = 0\n",
        "lista = list(df[coluna_numerica][:5])\n",
        "for n in lista:\n",
        "    soma += n\n",
        "print(\"Soma dos 5 primeiros valores das vendas:\", soma)\n"
      ],
      "metadata": {
        "colab": {
          "base_uri": "https://localhost:8080/"
        },
        "id": "C_610suwdTsj",
        "outputId": "9b7986af-35d1-4ae2-d870-6cc2a41579e5"
      },
      "execution_count": 66,
      "outputs": [
        {
          "output_type": "stream",
          "name": "stdout",
          "text": [
            "Soma dos 5 primeiros valores das vendas: 18473.21\n"
          ]
        }
      ]
    },
    {
      "cell_type": "code",
      "source": [
        "# Mostrando os 5 primeiros valores da lista\n",
        "lista"
      ],
      "metadata": {
        "colab": {
          "base_uri": "https://localhost:8080/"
        },
        "id": "cBtsfSSHh8nG",
        "outputId": "2c6dfa94-bf99-4a4e-cfe3-77370049a816"
      },
      "execution_count": 67,
      "outputs": [
        {
          "output_type": "execute_result",
          "data": {
            "text/plain": [
              "[2871.0, 2765.9, 3884.34, 3746.7, 5205.27]"
            ]
          },
          "metadata": {},
          "execution_count": 67
        }
      ]
    },
    {
      "cell_type": "code",
      "source": [
        "# Usando while para encontrar o primeiro valor acima de 3000\n",
        "limite = 3000\n",
        "i = 0\n",
        "while i < len(lista) and lista[i] <= limite:\n",
        "    i += 1\n",
        "if i < len(lista):\n",
        "    print(\"Primeiro valor >\", limite, \"encontrado:\", lista[i])\n",
        "else:\n",
        "    print(\"Nenhum valor maior que\", limite, \"encontrado nos primeiros 5.\")"
      ],
      "metadata": {
        "colab": {
          "base_uri": "https://localhost:8080/"
        },
        "id": "qbNRzaMleF0k",
        "outputId": "63983ac6-5a48-4cf6-a20c-dc67005ed867"
      },
      "execution_count": 68,
      "outputs": [
        {
          "output_type": "stream",
          "name": "stdout",
          "text": [
            "Primeiro valor > 3000 encontrado: 3884.34\n"
          ]
        }
      ]
    },
    {
      "cell_type": "markdown",
      "source": [
        "A primeira venda registrada na coluna SALES foi de 2.871,00 reais, classificada como valor alto pela regra definida.\n",
        "A soma das 5 primeiras vendas resultou em 18.473,21 com uma média aproximada de 3.694,64 por venda, reforçando um padrão de vendas elevantes logo nas primeiras transações.\n",
        "\n",
        "O laço while identificou que a primeira venda acima de 3.000,00 foi de 3.884,34, localizada na 3ª posição da lista."
      ],
      "metadata": {
        "id": "oz2KdDuOmPOG"
      }
    },
    {
      "cell_type": "markdown",
      "source": [
        "###5. Operadores Aritméticos e Manipulação de Dados"
      ],
      "metadata": {
        "id": "y-BVEhsToOkW"
      }
    },
    {
      "cell_type": "code",
      "source": [
        "#Criando novas colunas\n",
        "# Criar uma nova coluna com o valor líquido da venda (descontando 15% de comissão)\n",
        "df['SALES_LIQUIDO'] = df['SALES'] * 0.85\n",
        "print(df[['SALES', 'SALES_LIQUIDO']].head())\n"
      ],
      "metadata": {
        "colab": {
          "base_uri": "https://localhost:8080/"
        },
        "id": "9SnURK0omWqg",
        "outputId": "ebd7855d-0ead-469a-f81a-1315e584a83b"
      },
      "execution_count": 69,
      "outputs": [
        {
          "output_type": "stream",
          "name": "stdout",
          "text": [
            "     SALES  SALES_LIQUIDO\n",
            "0  2871.00      2440.3500\n",
            "1  2765.90      2351.0150\n",
            "2  3884.34      3301.6890\n",
            "3  3746.70      3184.6950\n",
            "4  5205.27      4424.4795\n"
          ]
        }
      ]
    },
    {
      "cell_type": "code",
      "source": [
        "print(df['SALES_LIQUIDO'].min())\n",
        "print(df['SALES_LIQUIDO'].max())"
      ],
      "metadata": {
        "colab": {
          "base_uri": "https://localhost:8080/"
        },
        "id": "K2MbwiKsr6dZ",
        "outputId": "9c30a939-1a87-4b2a-dd66-4c2fe2af9f92"
      },
      "execution_count": 70,
      "outputs": [
        {
          "output_type": "stream",
          "name": "stdout",
          "text": [
            "459.969\n",
            "11970.38\n"
          ]
        }
      ]
    },
    {
      "cell_type": "code",
      "source": [
        "# Calcular a comissão como a diferença entre o valor bruto e o valor líquido\n",
        "df['COMISSAO'] = df['SALES'] - df['SALES_LIQUIDO']\n",
        "\n",
        "# Exibir as 5 primeiras linhas com as 3 colunas\n",
        "print(df[['SALES', 'SALES_LIQUIDO', 'COMISSAO']].head())\n"
      ],
      "metadata": {
        "colab": {
          "base_uri": "https://localhost:8080/"
        },
        "id": "-ooq5UzptAag",
        "outputId": "9a6d652b-406e-40da-9019-23a3d20b8185"
      },
      "execution_count": 71,
      "outputs": [
        {
          "output_type": "stream",
          "name": "stdout",
          "text": [
            "     SALES  SALES_LIQUIDO  COMISSAO\n",
            "0  2871.00      2440.3500  430.6500\n",
            "1  2765.90      2351.0150  414.8850\n",
            "2  3884.34      3301.6890  582.6510\n",
            "3  3746.70      3184.6950  562.0050\n",
            "4  5205.27      4424.4795  780.7905\n"
          ]
        }
      ]
    },
    {
      "cell_type": "markdown",
      "source": [
        "Ao aplicar um desconto de 15% referente à comissão sobre o valor bruto (SALES), observou-se que o valor líquido das vendas varia entre 459,97 e 11.970,38.\n",
        "\n",
        "Com base nisso, foi possível calcular o valor da comissão paga, que é a diferença entre o valor bruto e o valor líquido. O valor das comissões variou de 81,17 a 2.111,82.\n",
        "\n",
        "Esse intervalo mostra que existem vendas de diferentes portes, indicando uma carteira diversificada de clientes — desde compras pequenas até transações de alto valor que geram comissões expressivas para os vendedores."
      ],
      "metadata": {
        "id": "vX-KnmqCru8r"
      }
    },
    {
      "cell_type": "markdown",
      "source": [
        "###6. Operações com NumPy e Arrays Numéricos"
      ],
      "metadata": {
        "id": "ZkseVbw-IWzQ"
      }
    },
    {
      "cell_type": "code",
      "source": [
        "array = np.array(df['QUANTITYORDERED'])\n",
        "array_5_elementos = array[:5]\n",
        "\n",
        "print(\"Array dos 5 primeiros elementos:\",array_5_elementos)\n",
        "print(\"Array somado +10:\", (array + 10)[:5])\n",
        "print(\"Array ao quadrado:\", (array ** 2)[:5])\n",
        "\n",
        "print(\"Soma dos elementos:\", np.nansum(array))\n",
        "print(\"Média dos elementos:\", np.nanmean(array))"
      ],
      "metadata": {
        "colab": {
          "base_uri": "https://localhost:8080/"
        },
        "id": "HtMCf0dbQxcH",
        "outputId": "5f74824e-63d0-4648-e4e6-4b4db94fe41c"
      },
      "execution_count": 75,
      "outputs": [
        {
          "output_type": "stream",
          "name": "stdout",
          "text": [
            "Array dos 5 primeiros elementos: [30. 34. 41. 45. 49.]\n",
            "Array somado +10: [40. 44. 51. 55. 59.]\n",
            "Array ao quadrado: [ 900. 1156. 1681. 2025. 2401.]\n",
            "Soma dos elementos: 52988.0\n",
            "Média dos elementos: 35.13793103448276\n"
          ]
        }
      ]
    },
    {
      "cell_type": "code",
      "source": [
        "# Acessando valores pelo índice\n",
        "print(array[0])   # Primeiro valor\n",
        "print(array[3])   # Quarto valor\n",
        "print(array[-1])  # Último valor\n",
        "print(array[-2])  # Penúltimo valor\n",
        "\n",
        "# Fatiamento\n",
        "print(array[:5]) #Pegar os 5 primeiros\n",
        "print(array[5:11]) #Do item 5 até o 10\n",
        "\n",
        "print(array[0])\n",
        "#Modificando os valores do array\n",
        "array[0] = 100\n",
        "print(array[0])\n",
        "array[0:3] = [11, 22, 33]  # troca os 3 primeiros valores\n",
        "print(array[:3])\n"
      ],
      "metadata": {
        "colab": {
          "base_uri": "https://localhost:8080/"
        },
        "id": "TNJ4CQyZTB7m",
        "outputId": "8da7521b-df1a-4f07-d77a-32ff0dbf1226"
      },
      "execution_count": 73,
      "outputs": [
        {
          "output_type": "stream",
          "name": "stdout",
          "text": [
            "30.0\n",
            "45.0\n",
            "47.0\n",
            "34.0\n",
            "[30. 34. 41. 45. 49.]\n",
            "[36. nan nan 22. nan nan]\n",
            "30.0\n",
            "100.0\n",
            "[11. 22. 33.]\n"
          ]
        }
      ]
    },
    {
      "cell_type": "markdown",
      "source": [
        "O array NumPy da coluna “QUANTITYORDERED” mostrou que os cinco primeiros pedidos são 30. 34. 41. 45. 49, com o valor mais alto sendo 49 — indicando que as vendas têm volume médio-alto e não são microtransações."
      ],
      "metadata": {
        "id": "RwDMkH3cWIko"
      }
    },
    {
      "cell_type": "markdown",
      "source": [
        "###7. Acessando e Manipulando  Dados com Pandas"
      ],
      "metadata": {
        "id": "g6BgcDiUXw3h"
      }
    },
    {
      "cell_type": "code",
      "source": [
        "# Checando a quantidade de vendas por países\n",
        "df['COUNTRY'].value_counts()"
      ],
      "metadata": {
        "colab": {
          "base_uri": "https://localhost:8080/",
          "height": 491
        },
        "id": "xhso_XtSaaQS",
        "outputId": "6fb95ffd-674f-4890-8df5-8de6a9d3c33f"
      },
      "execution_count": 79,
      "outputs": [
        {
          "output_type": "execute_result",
          "data": {
            "text/plain": [
              "COUNTRY\n",
              "USA            969\n",
              "Italy          113\n",
              "France          81\n",
              "Denmark         63\n",
              "Austria         55\n",
              "Canada          44\n",
              "Sweden          38\n",
              "Singapore       36\n",
              "Norway          32\n",
              "UK              26\n",
              "Philippines     26\n",
              "Belgium         25\n",
              "Name: count, dtype: int64"
            ],
            "text/html": [
              "<div>\n",
              "<style scoped>\n",
              "    .dataframe tbody tr th:only-of-type {\n",
              "        vertical-align: middle;\n",
              "    }\n",
              "\n",
              "    .dataframe tbody tr th {\n",
              "        vertical-align: top;\n",
              "    }\n",
              "\n",
              "    .dataframe thead th {\n",
              "        text-align: right;\n",
              "    }\n",
              "</style>\n",
              "<table border=\"1\" class=\"dataframe\">\n",
              "  <thead>\n",
              "    <tr style=\"text-align: right;\">\n",
              "      <th></th>\n",
              "      <th>count</th>\n",
              "    </tr>\n",
              "    <tr>\n",
              "      <th>COUNTRY</th>\n",
              "      <th></th>\n",
              "    </tr>\n",
              "  </thead>\n",
              "  <tbody>\n",
              "    <tr>\n",
              "      <th>USA</th>\n",
              "      <td>969</td>\n",
              "    </tr>\n",
              "    <tr>\n",
              "      <th>Italy</th>\n",
              "      <td>113</td>\n",
              "    </tr>\n",
              "    <tr>\n",
              "      <th>France</th>\n",
              "      <td>81</td>\n",
              "    </tr>\n",
              "    <tr>\n",
              "      <th>Denmark</th>\n",
              "      <td>63</td>\n",
              "    </tr>\n",
              "    <tr>\n",
              "      <th>Austria</th>\n",
              "      <td>55</td>\n",
              "    </tr>\n",
              "    <tr>\n",
              "      <th>Canada</th>\n",
              "      <td>44</td>\n",
              "    </tr>\n",
              "    <tr>\n",
              "      <th>Sweden</th>\n",
              "      <td>38</td>\n",
              "    </tr>\n",
              "    <tr>\n",
              "      <th>Singapore</th>\n",
              "      <td>36</td>\n",
              "    </tr>\n",
              "    <tr>\n",
              "      <th>Norway</th>\n",
              "      <td>32</td>\n",
              "    </tr>\n",
              "    <tr>\n",
              "      <th>UK</th>\n",
              "      <td>26</td>\n",
              "    </tr>\n",
              "    <tr>\n",
              "      <th>Philippines</th>\n",
              "      <td>26</td>\n",
              "    </tr>\n",
              "    <tr>\n",
              "      <th>Belgium</th>\n",
              "      <td>25</td>\n",
              "    </tr>\n",
              "  </tbody>\n",
              "</table>\n",
              "</div><br><label><b>dtype:</b> int64</label>"
            ]
          },
          "metadata": {},
          "execution_count": 79
        }
      ]
    },
    {
      "cell_type": "code",
      "source": [
        "# Selecionar vendas feitas apenas nos EUA:\n",
        "vendas_usa = df.loc[df['COUNTRY'] == 'USA']\n",
        "# Checagem do resultado do filtro para vendas apenas nos USA(Não pode aparecer outros países)\n",
        "vendas_usa['COUNTRY'].value_counts()"
      ],
      "metadata": {
        "colab": {
          "base_uri": "https://localhost:8080/",
          "height": 147
        },
        "id": "GEWP-sjwXuSD",
        "outputId": "dea63e14-452e-41fa-8087-38e82c3d4c7c"
      },
      "execution_count": 80,
      "outputs": [
        {
          "output_type": "execute_result",
          "data": {
            "text/plain": [
              "COUNTRY\n",
              "USA    969\n",
              "Name: count, dtype: int64"
            ],
            "text/html": [
              "<div>\n",
              "<style scoped>\n",
              "    .dataframe tbody tr th:only-of-type {\n",
              "        vertical-align: middle;\n",
              "    }\n",
              "\n",
              "    .dataframe tbody tr th {\n",
              "        vertical-align: top;\n",
              "    }\n",
              "\n",
              "    .dataframe thead th {\n",
              "        text-align: right;\n",
              "    }\n",
              "</style>\n",
              "<table border=\"1\" class=\"dataframe\">\n",
              "  <thead>\n",
              "    <tr style=\"text-align: right;\">\n",
              "      <th></th>\n",
              "      <th>count</th>\n",
              "    </tr>\n",
              "    <tr>\n",
              "      <th>COUNTRY</th>\n",
              "      <th></th>\n",
              "    </tr>\n",
              "  </thead>\n",
              "  <tbody>\n",
              "    <tr>\n",
              "      <th>USA</th>\n",
              "      <td>969</td>\n",
              "    </tr>\n",
              "  </tbody>\n",
              "</table>\n",
              "</div><br><label><b>dtype:</b> int64</label>"
            ]
          },
          "metadata": {},
          "execution_count": 80
        }
      ]
    },
    {
      "cell_type": "code",
      "source": [
        "#Selecionar as 5 primeiras linhas dp dataframe (exemplo de slice):\n",
        "df.iloc[:5]"
      ],
      "metadata": {
        "colab": {
          "base_uri": "https://localhost:8080/",
          "height": 342
        },
        "id": "u0Cw30uoZUdu",
        "outputId": "be30448c-b427-4dd2-e970-fb68ceeb8b74"
      },
      "execution_count": 82,
      "outputs": [
        {
          "output_type": "execute_result",
          "data": {
            "text/plain": [
              "  ORDERNUMBER  QUANTITYORDERED  PRICEEACH  ORDERLINENUMBER    SALES  \\\n",
              "0       10107             30.0      95.70              2.0  2871.00   \n",
              "1       10121             34.0      81.35              5.0  2765.90   \n",
              "2       10134             41.0      94.74              2.0  3884.34   \n",
              "3       10145             45.0      83.26              6.0  3746.70   \n",
              "4       10159             49.0     100.00             14.0  5205.27   \n",
              "\n",
              "         ORDERDATE   STATUS  QTR_ID  MONTH_ID  YEAR_ID  ...           CITY  \\\n",
              "0   2/24/2003 0:00  Shipped     1.0       2.0   2003.0  ...            NYC   \n",
              "1    5/7/2003 0:00  Shipped     2.0       5.0   2003.0  ...          Reims   \n",
              "2    7/1/2003 0:00  Shipped     3.0       7.0   2003.0  ...          Paris   \n",
              "3   8/25/2003 0:00  Shipped     3.0       8.0   2003.0  ...       Pasadena   \n",
              "4  10/10/2003 0:00  Shipped     4.0      10.0   2003.0  ...  San Francisco   \n",
              "\n",
              "   STATE POSTALCODE COUNTRY TERRITORY CONTACTLASTNAME CONTACTFIRSTNAME  \\\n",
              "0     NY      10022     USA       NaN              Yu             Kwai   \n",
              "1    NaN      51100  France      EMEA         Henriot             Paul   \n",
              "2    NaN      75508  France      EMEA        Da Cunha           Daniel   \n",
              "3     CA      90003     USA       NaN           Young            Julie   \n",
              "4     CA        NaN     USA       NaN           Brown            Julie   \n",
              "\n",
              "  DEALSIZE SALES_LIQUIDO  COMISSAO  \n",
              "0    Small     2440.3500  430.6500  \n",
              "1    Small     2351.0150  414.8850  \n",
              "2   Medium     3301.6890  582.6510  \n",
              "3   Medium     3184.6950  562.0050  \n",
              "4   Medium     4424.4795  780.7905  \n",
              "\n",
              "[5 rows x 27 columns]"
            ],
            "text/html": [
              "\n",
              "  <div id=\"df-e2c036cd-be3e-4865-a5c5-18520396c158\" class=\"colab-df-container\">\n",
              "    <div>\n",
              "<style scoped>\n",
              "    .dataframe tbody tr th:only-of-type {\n",
              "        vertical-align: middle;\n",
              "    }\n",
              "\n",
              "    .dataframe tbody tr th {\n",
              "        vertical-align: top;\n",
              "    }\n",
              "\n",
              "    .dataframe thead th {\n",
              "        text-align: right;\n",
              "    }\n",
              "</style>\n",
              "<table border=\"1\" class=\"dataframe\">\n",
              "  <thead>\n",
              "    <tr style=\"text-align: right;\">\n",
              "      <th></th>\n",
              "      <th>ORDERNUMBER</th>\n",
              "      <th>QUANTITYORDERED</th>\n",
              "      <th>PRICEEACH</th>\n",
              "      <th>ORDERLINENUMBER</th>\n",
              "      <th>SALES</th>\n",
              "      <th>ORDERDATE</th>\n",
              "      <th>STATUS</th>\n",
              "      <th>QTR_ID</th>\n",
              "      <th>MONTH_ID</th>\n",
              "      <th>YEAR_ID</th>\n",
              "      <th>...</th>\n",
              "      <th>CITY</th>\n",
              "      <th>STATE</th>\n",
              "      <th>POSTALCODE</th>\n",
              "      <th>COUNTRY</th>\n",
              "      <th>TERRITORY</th>\n",
              "      <th>CONTACTLASTNAME</th>\n",
              "      <th>CONTACTFIRSTNAME</th>\n",
              "      <th>DEALSIZE</th>\n",
              "      <th>SALES_LIQUIDO</th>\n",
              "      <th>COMISSAO</th>\n",
              "    </tr>\n",
              "  </thead>\n",
              "  <tbody>\n",
              "    <tr>\n",
              "      <th>0</th>\n",
              "      <td>10107</td>\n",
              "      <td>30.0</td>\n",
              "      <td>95.70</td>\n",
              "      <td>2.0</td>\n",
              "      <td>2871.00</td>\n",
              "      <td>2/24/2003 0:00</td>\n",
              "      <td>Shipped</td>\n",
              "      <td>1.0</td>\n",
              "      <td>2.0</td>\n",
              "      <td>2003.0</td>\n",
              "      <td>...</td>\n",
              "      <td>NYC</td>\n",
              "      <td>NY</td>\n",
              "      <td>10022</td>\n",
              "      <td>USA</td>\n",
              "      <td>NaN</td>\n",
              "      <td>Yu</td>\n",
              "      <td>Kwai</td>\n",
              "      <td>Small</td>\n",
              "      <td>2440.3500</td>\n",
              "      <td>430.6500</td>\n",
              "    </tr>\n",
              "    <tr>\n",
              "      <th>1</th>\n",
              "      <td>10121</td>\n",
              "      <td>34.0</td>\n",
              "      <td>81.35</td>\n",
              "      <td>5.0</td>\n",
              "      <td>2765.90</td>\n",
              "      <td>5/7/2003 0:00</td>\n",
              "      <td>Shipped</td>\n",
              "      <td>2.0</td>\n",
              "      <td>5.0</td>\n",
              "      <td>2003.0</td>\n",
              "      <td>...</td>\n",
              "      <td>Reims</td>\n",
              "      <td>NaN</td>\n",
              "      <td>51100</td>\n",
              "      <td>France</td>\n",
              "      <td>EMEA</td>\n",
              "      <td>Henriot</td>\n",
              "      <td>Paul</td>\n",
              "      <td>Small</td>\n",
              "      <td>2351.0150</td>\n",
              "      <td>414.8850</td>\n",
              "    </tr>\n",
              "    <tr>\n",
              "      <th>2</th>\n",
              "      <td>10134</td>\n",
              "      <td>41.0</td>\n",
              "      <td>94.74</td>\n",
              "      <td>2.0</td>\n",
              "      <td>3884.34</td>\n",
              "      <td>7/1/2003 0:00</td>\n",
              "      <td>Shipped</td>\n",
              "      <td>3.0</td>\n",
              "      <td>7.0</td>\n",
              "      <td>2003.0</td>\n",
              "      <td>...</td>\n",
              "      <td>Paris</td>\n",
              "      <td>NaN</td>\n",
              "      <td>75508</td>\n",
              "      <td>France</td>\n",
              "      <td>EMEA</td>\n",
              "      <td>Da Cunha</td>\n",
              "      <td>Daniel</td>\n",
              "      <td>Medium</td>\n",
              "      <td>3301.6890</td>\n",
              "      <td>582.6510</td>\n",
              "    </tr>\n",
              "    <tr>\n",
              "      <th>3</th>\n",
              "      <td>10145</td>\n",
              "      <td>45.0</td>\n",
              "      <td>83.26</td>\n",
              "      <td>6.0</td>\n",
              "      <td>3746.70</td>\n",
              "      <td>8/25/2003 0:00</td>\n",
              "      <td>Shipped</td>\n",
              "      <td>3.0</td>\n",
              "      <td>8.0</td>\n",
              "      <td>2003.0</td>\n",
              "      <td>...</td>\n",
              "      <td>Pasadena</td>\n",
              "      <td>CA</td>\n",
              "      <td>90003</td>\n",
              "      <td>USA</td>\n",
              "      <td>NaN</td>\n",
              "      <td>Young</td>\n",
              "      <td>Julie</td>\n",
              "      <td>Medium</td>\n",
              "      <td>3184.6950</td>\n",
              "      <td>562.0050</td>\n",
              "    </tr>\n",
              "    <tr>\n",
              "      <th>4</th>\n",
              "      <td>10159</td>\n",
              "      <td>49.0</td>\n",
              "      <td>100.00</td>\n",
              "      <td>14.0</td>\n",
              "      <td>5205.27</td>\n",
              "      <td>10/10/2003 0:00</td>\n",
              "      <td>Shipped</td>\n",
              "      <td>4.0</td>\n",
              "      <td>10.0</td>\n",
              "      <td>2003.0</td>\n",
              "      <td>...</td>\n",
              "      <td>San Francisco</td>\n",
              "      <td>CA</td>\n",
              "      <td>NaN</td>\n",
              "      <td>USA</td>\n",
              "      <td>NaN</td>\n",
              "      <td>Brown</td>\n",
              "      <td>Julie</td>\n",
              "      <td>Medium</td>\n",
              "      <td>4424.4795</td>\n",
              "      <td>780.7905</td>\n",
              "    </tr>\n",
              "  </tbody>\n",
              "</table>\n",
              "<p>5 rows × 27 columns</p>\n",
              "</div>\n",
              "    <div class=\"colab-df-buttons\">\n",
              "\n",
              "  <div class=\"colab-df-container\">\n",
              "    <button class=\"colab-df-convert\" onclick=\"convertToInteractive('df-e2c036cd-be3e-4865-a5c5-18520396c158')\"\n",
              "            title=\"Convert this dataframe to an interactive table.\"\n",
              "            style=\"display:none;\">\n",
              "\n",
              "  <svg xmlns=\"http://www.w3.org/2000/svg\" height=\"24px\" viewBox=\"0 -960 960 960\">\n",
              "    <path d=\"M120-120v-720h720v720H120Zm60-500h600v-160H180v160Zm220 220h160v-160H400v160Zm0 220h160v-160H400v160ZM180-400h160v-160H180v160Zm440 0h160v-160H620v160ZM180-180h160v-160H180v160Zm440 0h160v-160H620v160Z\"/>\n",
              "  </svg>\n",
              "    </button>\n",
              "\n",
              "  <style>\n",
              "    .colab-df-container {\n",
              "      display:flex;\n",
              "      gap: 12px;\n",
              "    }\n",
              "\n",
              "    .colab-df-convert {\n",
              "      background-color: #E8F0FE;\n",
              "      border: none;\n",
              "      border-radius: 50%;\n",
              "      cursor: pointer;\n",
              "      display: none;\n",
              "      fill: #1967D2;\n",
              "      height: 32px;\n",
              "      padding: 0 0 0 0;\n",
              "      width: 32px;\n",
              "    }\n",
              "\n",
              "    .colab-df-convert:hover {\n",
              "      background-color: #E2EBFA;\n",
              "      box-shadow: 0px 1px 2px rgba(60, 64, 67, 0.3), 0px 1px 3px 1px rgba(60, 64, 67, 0.15);\n",
              "      fill: #174EA6;\n",
              "    }\n",
              "\n",
              "    .colab-df-buttons div {\n",
              "      margin-bottom: 4px;\n",
              "    }\n",
              "\n",
              "    [theme=dark] .colab-df-convert {\n",
              "      background-color: #3B4455;\n",
              "      fill: #D2E3FC;\n",
              "    }\n",
              "\n",
              "    [theme=dark] .colab-df-convert:hover {\n",
              "      background-color: #434B5C;\n",
              "      box-shadow: 0px 1px 3px 1px rgba(0, 0, 0, 0.15);\n",
              "      filter: drop-shadow(0px 1px 2px rgba(0, 0, 0, 0.3));\n",
              "      fill: #FFFFFF;\n",
              "    }\n",
              "  </style>\n",
              "\n",
              "    <script>\n",
              "      const buttonEl =\n",
              "        document.querySelector('#df-e2c036cd-be3e-4865-a5c5-18520396c158 button.colab-df-convert');\n",
              "      buttonEl.style.display =\n",
              "        google.colab.kernel.accessAllowed ? 'block' : 'none';\n",
              "\n",
              "      async function convertToInteractive(key) {\n",
              "        const element = document.querySelector('#df-e2c036cd-be3e-4865-a5c5-18520396c158');\n",
              "        const dataTable =\n",
              "          await google.colab.kernel.invokeFunction('convertToInteractive',\n",
              "                                                    [key], {});\n",
              "        if (!dataTable) return;\n",
              "\n",
              "        const docLinkHtml = 'Like what you see? Visit the ' +\n",
              "          '<a target=\"_blank\" href=https://colab.research.google.com/notebooks/data_table.ipynb>data table notebook</a>'\n",
              "          + ' to learn more about interactive tables.';\n",
              "        element.innerHTML = '';\n",
              "        dataTable['output_type'] = 'display_data';\n",
              "        await google.colab.output.renderOutput(dataTable, element);\n",
              "        const docLink = document.createElement('div');\n",
              "        docLink.innerHTML = docLinkHtml;\n",
              "        element.appendChild(docLink);\n",
              "      }\n",
              "    </script>\n",
              "  </div>\n",
              "\n",
              "\n",
              "    <div id=\"df-9490f121-d59a-45d3-92fa-641dfa23e2d2\">\n",
              "      <button class=\"colab-df-quickchart\" onclick=\"quickchart('df-9490f121-d59a-45d3-92fa-641dfa23e2d2')\"\n",
              "                title=\"Suggest charts\"\n",
              "                style=\"display:none;\">\n",
              "\n",
              "<svg xmlns=\"http://www.w3.org/2000/svg\" height=\"24px\"viewBox=\"0 0 24 24\"\n",
              "     width=\"24px\">\n",
              "    <g>\n",
              "        <path d=\"M19 3H5c-1.1 0-2 .9-2 2v14c0 1.1.9 2 2 2h14c1.1 0 2-.9 2-2V5c0-1.1-.9-2-2-2zM9 17H7v-7h2v7zm4 0h-2V7h2v10zm4 0h-2v-4h2v4z\"/>\n",
              "    </g>\n",
              "</svg>\n",
              "      </button>\n",
              "\n",
              "<style>\n",
              "  .colab-df-quickchart {\n",
              "      --bg-color: #E8F0FE;\n",
              "      --fill-color: #1967D2;\n",
              "      --hover-bg-color: #E2EBFA;\n",
              "      --hover-fill-color: #174EA6;\n",
              "      --disabled-fill-color: #AAA;\n",
              "      --disabled-bg-color: #DDD;\n",
              "  }\n",
              "\n",
              "  [theme=dark] .colab-df-quickchart {\n",
              "      --bg-color: #3B4455;\n",
              "      --fill-color: #D2E3FC;\n",
              "      --hover-bg-color: #434B5C;\n",
              "      --hover-fill-color: #FFFFFF;\n",
              "      --disabled-bg-color: #3B4455;\n",
              "      --disabled-fill-color: #666;\n",
              "  }\n",
              "\n",
              "  .colab-df-quickchart {\n",
              "    background-color: var(--bg-color);\n",
              "    border: none;\n",
              "    border-radius: 50%;\n",
              "    cursor: pointer;\n",
              "    display: none;\n",
              "    fill: var(--fill-color);\n",
              "    height: 32px;\n",
              "    padding: 0;\n",
              "    width: 32px;\n",
              "  }\n",
              "\n",
              "  .colab-df-quickchart:hover {\n",
              "    background-color: var(--hover-bg-color);\n",
              "    box-shadow: 0 1px 2px rgba(60, 64, 67, 0.3), 0 1px 3px 1px rgba(60, 64, 67, 0.15);\n",
              "    fill: var(--button-hover-fill-color);\n",
              "  }\n",
              "\n",
              "  .colab-df-quickchart-complete:disabled,\n",
              "  .colab-df-quickchart-complete:disabled:hover {\n",
              "    background-color: var(--disabled-bg-color);\n",
              "    fill: var(--disabled-fill-color);\n",
              "    box-shadow: none;\n",
              "  }\n",
              "\n",
              "  .colab-df-spinner {\n",
              "    border: 2px solid var(--fill-color);\n",
              "    border-color: transparent;\n",
              "    border-bottom-color: var(--fill-color);\n",
              "    animation:\n",
              "      spin 1s steps(1) infinite;\n",
              "  }\n",
              "\n",
              "  @keyframes spin {\n",
              "    0% {\n",
              "      border-color: transparent;\n",
              "      border-bottom-color: var(--fill-color);\n",
              "      border-left-color: var(--fill-color);\n",
              "    }\n",
              "    20% {\n",
              "      border-color: transparent;\n",
              "      border-left-color: var(--fill-color);\n",
              "      border-top-color: var(--fill-color);\n",
              "    }\n",
              "    30% {\n",
              "      border-color: transparent;\n",
              "      border-left-color: var(--fill-color);\n",
              "      border-top-color: var(--fill-color);\n",
              "      border-right-color: var(--fill-color);\n",
              "    }\n",
              "    40% {\n",
              "      border-color: transparent;\n",
              "      border-right-color: var(--fill-color);\n",
              "      border-top-color: var(--fill-color);\n",
              "    }\n",
              "    60% {\n",
              "      border-color: transparent;\n",
              "      border-right-color: var(--fill-color);\n",
              "    }\n",
              "    80% {\n",
              "      border-color: transparent;\n",
              "      border-right-color: var(--fill-color);\n",
              "      border-bottom-color: var(--fill-color);\n",
              "    }\n",
              "    90% {\n",
              "      border-color: transparent;\n",
              "      border-bottom-color: var(--fill-color);\n",
              "    }\n",
              "  }\n",
              "</style>\n",
              "\n",
              "      <script>\n",
              "        async function quickchart(key) {\n",
              "          const quickchartButtonEl =\n",
              "            document.querySelector('#' + key + ' button');\n",
              "          quickchartButtonEl.disabled = true;  // To prevent multiple clicks.\n",
              "          quickchartButtonEl.classList.add('colab-df-spinner');\n",
              "          try {\n",
              "            const charts = await google.colab.kernel.invokeFunction(\n",
              "                'suggestCharts', [key], {});\n",
              "          } catch (error) {\n",
              "            console.error('Error during call to suggestCharts:', error);\n",
              "          }\n",
              "          quickchartButtonEl.classList.remove('colab-df-spinner');\n",
              "          quickchartButtonEl.classList.add('colab-df-quickchart-complete');\n",
              "        }\n",
              "        (() => {\n",
              "          let quickchartButtonEl =\n",
              "            document.querySelector('#df-9490f121-d59a-45d3-92fa-641dfa23e2d2 button');\n",
              "          quickchartButtonEl.style.display =\n",
              "            google.colab.kernel.accessAllowed ? 'block' : 'none';\n",
              "        })();\n",
              "      </script>\n",
              "    </div>\n",
              "\n",
              "    </div>\n",
              "  </div>\n"
            ],
            "application/vnd.google.colaboratory.intrinsic+json": {
              "type": "dataframe"
            }
          },
          "metadata": {},
          "execution_count": 82
        }
      ]
    },
    {
      "cell_type": "code",
      "source": [
        "#Quantas vendas por categoria (PRODUCTLINE)?\n",
        "df['PRODUCTLINE'].value_counts()"
      ],
      "metadata": {
        "colab": {
          "base_uri": "https://localhost:8080/",
          "height": 335
        },
        "id": "Ac8ZrxNScPHG",
        "outputId": "0654b249-e0ae-4c1e-abde-5beeb232b20f"
      },
      "execution_count": 84,
      "outputs": [
        {
          "output_type": "execute_result",
          "data": {
            "text/plain": [
              "PRODUCTLINE\n",
              "Classic Cars        485\n",
              "Vintage Cars        336\n",
              "Motorcycles         187\n",
              "Trucks and Buses    165\n",
              "Planes              164\n",
              "Ships               131\n",
              "Trains               40\n",
              "Name: count, dtype: int64"
            ],
            "text/html": [
              "<div>\n",
              "<style scoped>\n",
              "    .dataframe tbody tr th:only-of-type {\n",
              "        vertical-align: middle;\n",
              "    }\n",
              "\n",
              "    .dataframe tbody tr th {\n",
              "        vertical-align: top;\n",
              "    }\n",
              "\n",
              "    .dataframe thead th {\n",
              "        text-align: right;\n",
              "    }\n",
              "</style>\n",
              "<table border=\"1\" class=\"dataframe\">\n",
              "  <thead>\n",
              "    <tr style=\"text-align: right;\">\n",
              "      <th></th>\n",
              "      <th>count</th>\n",
              "    </tr>\n",
              "    <tr>\n",
              "      <th>PRODUCTLINE</th>\n",
              "      <th></th>\n",
              "    </tr>\n",
              "  </thead>\n",
              "  <tbody>\n",
              "    <tr>\n",
              "      <th>Classic Cars</th>\n",
              "      <td>485</td>\n",
              "    </tr>\n",
              "    <tr>\n",
              "      <th>Vintage Cars</th>\n",
              "      <td>336</td>\n",
              "    </tr>\n",
              "    <tr>\n",
              "      <th>Motorcycles</th>\n",
              "      <td>187</td>\n",
              "    </tr>\n",
              "    <tr>\n",
              "      <th>Trucks and Buses</th>\n",
              "      <td>165</td>\n",
              "    </tr>\n",
              "    <tr>\n",
              "      <th>Planes</th>\n",
              "      <td>164</td>\n",
              "    </tr>\n",
              "    <tr>\n",
              "      <th>Ships</th>\n",
              "      <td>131</td>\n",
              "    </tr>\n",
              "    <tr>\n",
              "      <th>Trains</th>\n",
              "      <td>40</td>\n",
              "    </tr>\n",
              "  </tbody>\n",
              "</table>\n",
              "</div><br><label><b>dtype:</b> int64</label>"
            ]
          },
          "metadata": {},
          "execution_count": 84
        }
      ]
    },
    {
      "cell_type": "code",
      "source": [
        " # Soma de vendas (SALES) por país(COUNTRY) ordenado de modo decrescente\n",
        "df.groupby('COUNTRY')['SALES'].sum().sort_values(ascending=False)"
      ],
      "metadata": {
        "colab": {
          "base_uri": "https://localhost:8080/",
          "height": 491
        },
        "id": "1XkxBFWdcy1l",
        "outputId": "ffa69370-9268-4812-e4c2-5230ccecdeca"
      },
      "execution_count": 85,
      "outputs": [
        {
          "output_type": "execute_result",
          "data": {
            "text/plain": [
              "COUNTRY\n",
              "USA            3512427.40\n",
              "Italy           374674.31\n",
              "France          284101.72\n",
              "Denmark         245637.15\n",
              "Austria         202062.53\n",
              "Canada          149443.71\n",
              "Sweden          134259.33\n",
              "Norway          116599.19\n",
              "Singapore       115498.73\n",
              "Philippines      94015.73\n",
              "UK               78240.84\n",
              "Belgium          74972.52\n",
              "Name: SALES, dtype: float64"
            ],
            "text/html": [
              "<div>\n",
              "<style scoped>\n",
              "    .dataframe tbody tr th:only-of-type {\n",
              "        vertical-align: middle;\n",
              "    }\n",
              "\n",
              "    .dataframe tbody tr th {\n",
              "        vertical-align: top;\n",
              "    }\n",
              "\n",
              "    .dataframe thead th {\n",
              "        text-align: right;\n",
              "    }\n",
              "</style>\n",
              "<table border=\"1\" class=\"dataframe\">\n",
              "  <thead>\n",
              "    <tr style=\"text-align: right;\">\n",
              "      <th></th>\n",
              "      <th>SALES</th>\n",
              "    </tr>\n",
              "    <tr>\n",
              "      <th>COUNTRY</th>\n",
              "      <th></th>\n",
              "    </tr>\n",
              "  </thead>\n",
              "  <tbody>\n",
              "    <tr>\n",
              "      <th>USA</th>\n",
              "      <td>3512427.40</td>\n",
              "    </tr>\n",
              "    <tr>\n",
              "      <th>Italy</th>\n",
              "      <td>374674.31</td>\n",
              "    </tr>\n",
              "    <tr>\n",
              "      <th>France</th>\n",
              "      <td>284101.72</td>\n",
              "    </tr>\n",
              "    <tr>\n",
              "      <th>Denmark</th>\n",
              "      <td>245637.15</td>\n",
              "    </tr>\n",
              "    <tr>\n",
              "      <th>Austria</th>\n",
              "      <td>202062.53</td>\n",
              "    </tr>\n",
              "    <tr>\n",
              "      <th>Canada</th>\n",
              "      <td>149443.71</td>\n",
              "    </tr>\n",
              "    <tr>\n",
              "      <th>Sweden</th>\n",
              "      <td>134259.33</td>\n",
              "    </tr>\n",
              "    <tr>\n",
              "      <th>Norway</th>\n",
              "      <td>116599.19</td>\n",
              "    </tr>\n",
              "    <tr>\n",
              "      <th>Singapore</th>\n",
              "      <td>115498.73</td>\n",
              "    </tr>\n",
              "    <tr>\n",
              "      <th>Philippines</th>\n",
              "      <td>94015.73</td>\n",
              "    </tr>\n",
              "    <tr>\n",
              "      <th>UK</th>\n",
              "      <td>78240.84</td>\n",
              "    </tr>\n",
              "    <tr>\n",
              "      <th>Belgium</th>\n",
              "      <td>74972.52</td>\n",
              "    </tr>\n",
              "  </tbody>\n",
              "</table>\n",
              "</div><br><label><b>dtype:</b> float64</label>"
            ]
          },
          "metadata": {},
          "execution_count": 85
        }
      ]
    },
    {
      "cell_type": "code",
      "source": [
        "# Média das vendas por linha de produto (PRODUCTLINE)de modo decrescente\n",
        "df.groupby('PRODUCTLINE')['SALES'].mean().sort_values(ascending=False)"
      ],
      "metadata": {
        "colab": {
          "base_uri": "https://localhost:8080/",
          "height": 335
        },
        "id": "8T0M6CBKeF9c",
        "outputId": "f55f0441-b756-45f1-b0cf-e760ecc432ed"
      },
      "execution_count": 86,
      "outputs": [
        {
          "output_type": "execute_result",
          "data": {
            "text/plain": [
              "PRODUCTLINE\n",
              "Classic Cars        4125.086021\n",
              "Trucks and Buses    3625.759879\n",
              "Motorcycles         3535.337594\n",
              "Planes              3318.012256\n",
              "Vintage Cars        3166.757917\n",
              "Trains              3128.028250\n",
              "Ships               2966.428473\n",
              "Name: SALES, dtype: float64"
            ],
            "text/html": [
              "<div>\n",
              "<style scoped>\n",
              "    .dataframe tbody tr th:only-of-type {\n",
              "        vertical-align: middle;\n",
              "    }\n",
              "\n",
              "    .dataframe tbody tr th {\n",
              "        vertical-align: top;\n",
              "    }\n",
              "\n",
              "    .dataframe thead th {\n",
              "        text-align: right;\n",
              "    }\n",
              "</style>\n",
              "<table border=\"1\" class=\"dataframe\">\n",
              "  <thead>\n",
              "    <tr style=\"text-align: right;\">\n",
              "      <th></th>\n",
              "      <th>SALES</th>\n",
              "    </tr>\n",
              "    <tr>\n",
              "      <th>PRODUCTLINE</th>\n",
              "      <th></th>\n",
              "    </tr>\n",
              "  </thead>\n",
              "  <tbody>\n",
              "    <tr>\n",
              "      <th>Classic Cars</th>\n",
              "      <td>4125.086021</td>\n",
              "    </tr>\n",
              "    <tr>\n",
              "      <th>Trucks and Buses</th>\n",
              "      <td>3625.759879</td>\n",
              "    </tr>\n",
              "    <tr>\n",
              "      <th>Motorcycles</th>\n",
              "      <td>3535.337594</td>\n",
              "    </tr>\n",
              "    <tr>\n",
              "      <th>Planes</th>\n",
              "      <td>3318.012256</td>\n",
              "    </tr>\n",
              "    <tr>\n",
              "      <th>Vintage Cars</th>\n",
              "      <td>3166.757917</td>\n",
              "    </tr>\n",
              "    <tr>\n",
              "      <th>Trains</th>\n",
              "      <td>3128.028250</td>\n",
              "    </tr>\n",
              "    <tr>\n",
              "      <th>Ships</th>\n",
              "      <td>2966.428473</td>\n",
              "    </tr>\n",
              "  </tbody>\n",
              "</table>\n",
              "</div><br><label><b>dtype:</b> float64</label>"
            ]
          },
          "metadata": {},
          "execution_count": 86
        }
      ]
    },
    {
      "cell_type": "markdown",
      "source": [
        "Com base na análise dos dados de vendas, observamos que o mercado dos Estados Unidos concentra o maior faturamento (acima de R\\$ 3,5 milhões), demonstrando ser o principal foco comercial da empresa. Entre os produtos, a categoria **\"Classic Cars\"** se destaca como líder absoluta, tanto em **quantidade de pedidos (485)** quanto em **ticket médio (R\\$ 4.125 por venda)**, indicando forte apelo e alto valor agregado. Em contrapartida, categorias como **\"Trains\"** e **\"Ships\"** apresentam baixo volume e média de vendas reduzida, sugerindo potencial de reavaliação estratégica. Esses dados apontam oportunidades claras para **reforçar campanhas e estoques nos EUA** e **focar em produtos de maior lucratividade**, ao mesmo tempo em que sinalizam a necessidade de otimizar ou redirecionar investimentos em linhas com menor desempenho."
      ],
      "metadata": {
        "id": "WWzO7uVtjwrh"
      }
    },
    {
      "cell_type": "markdown",
      "source": [
        "###8.Visualização de Dados"
      ],
      "metadata": {
        "id": "5Rn4pg8Gl52Z"
      }
    },
    {
      "cell_type": "code",
      "source": [
        "#Checando a situação da data dos pedidos na coluna(ORDERDATE)\n",
        "df['ORDERDATE']"
      ],
      "metadata": {
        "colab": {
          "base_uri": "https://localhost:8080/",
          "height": 458
        },
        "id": "qXZ6vkZGnD_u",
        "outputId": "2392d23a-8652-4032-8cdd-4203f9f889b0"
      },
      "execution_count": 87,
      "outputs": [
        {
          "output_type": "execute_result",
          "data": {
            "text/plain": [
              "0        2/24/2003 0:00\n",
              "1         5/7/2003 0:00\n",
              "2         7/1/2003 0:00\n",
              "3        8/25/2003 0:00\n",
              "4       10/10/2003 0:00\n",
              "             ...       \n",
              "2818                NaN\n",
              "2819                NaN\n",
              "2820                NaN\n",
              "2821     3/28/2005 0:00\n",
              "2822      5/6/2005 0:00\n",
              "Name: ORDERDATE, Length: 2823, dtype: object"
            ],
            "text/html": [
              "<div>\n",
              "<style scoped>\n",
              "    .dataframe tbody tr th:only-of-type {\n",
              "        vertical-align: middle;\n",
              "    }\n",
              "\n",
              "    .dataframe tbody tr th {\n",
              "        vertical-align: top;\n",
              "    }\n",
              "\n",
              "    .dataframe thead th {\n",
              "        text-align: right;\n",
              "    }\n",
              "</style>\n",
              "<table border=\"1\" class=\"dataframe\">\n",
              "  <thead>\n",
              "    <tr style=\"text-align: right;\">\n",
              "      <th></th>\n",
              "      <th>ORDERDATE</th>\n",
              "    </tr>\n",
              "  </thead>\n",
              "  <tbody>\n",
              "    <tr>\n",
              "      <th>0</th>\n",
              "      <td>2/24/2003 0:00</td>\n",
              "    </tr>\n",
              "    <tr>\n",
              "      <th>1</th>\n",
              "      <td>5/7/2003 0:00</td>\n",
              "    </tr>\n",
              "    <tr>\n",
              "      <th>2</th>\n",
              "      <td>7/1/2003 0:00</td>\n",
              "    </tr>\n",
              "    <tr>\n",
              "      <th>3</th>\n",
              "      <td>8/25/2003 0:00</td>\n",
              "    </tr>\n",
              "    <tr>\n",
              "      <th>4</th>\n",
              "      <td>10/10/2003 0:00</td>\n",
              "    </tr>\n",
              "    <tr>\n",
              "      <th>...</th>\n",
              "      <td>...</td>\n",
              "    </tr>\n",
              "    <tr>\n",
              "      <th>2818</th>\n",
              "      <td>NaN</td>\n",
              "    </tr>\n",
              "    <tr>\n",
              "      <th>2819</th>\n",
              "      <td>NaN</td>\n",
              "    </tr>\n",
              "    <tr>\n",
              "      <th>2820</th>\n",
              "      <td>NaN</td>\n",
              "    </tr>\n",
              "    <tr>\n",
              "      <th>2821</th>\n",
              "      <td>3/28/2005 0:00</td>\n",
              "    </tr>\n",
              "    <tr>\n",
              "      <th>2822</th>\n",
              "      <td>5/6/2005 0:00</td>\n",
              "    </tr>\n",
              "  </tbody>\n",
              "</table>\n",
              "<p>2823 rows × 1 columns</p>\n",
              "</div><br><label><b>dtype:</b> object</label>"
            ]
          },
          "metadata": {},
          "execution_count": 87
        }
      ]
    },
    {
      "cell_type": "markdown",
      "source": [
        "Verifiquei e identifiquei inconsistência na coluna ORDERDATE.\n",
        "\n",
        "Ações:\n",
        "- Converter ORDERDATE para o tipo datetime utilizando pd.to_datetime.\n",
        "\n",
        "- Tratar os valores inválidos que forem convertidos para NaT (valores nulos)."
      ],
      "metadata": {
        "id": "6lDTHEqypDiQ"
      }
    },
    {
      "cell_type": "code",
      "source": [
        "#Convertendo para datetime e tratando os nulos(errors='coerce)\n",
        "df['ORDERDATE'] = pd.to_datetime(df['ORDERDATE'], errors='coerce')\n",
        "\n",
        "# Plotando gráficos de Linha(kind='line') - Total de vendas ao longo do tempo\n",
        "df.groupby('ORDERDATE')['SALES'].sum().plot(kind='line', title='Vendas ao longo do tempo')\n",
        "plt.xlabel('Data')\n",
        "plt.ylabel('Vendas')\n",
        "plt.show()"
      ],
      "metadata": {
        "colab": {
          "base_uri": "https://localhost:8080/",
          "height": 455
        },
        "id": "7lr8s6jQmBSr",
        "outputId": "7c0b18a2-3c12-40a2-cb7a-db6f6fb1919c"
      },
      "execution_count": 89,
      "outputs": [
        {
          "output_type": "display_data",
          "data": {
            "text/plain": [
              "<Figure size 640x480 with 1 Axes>"
            ],
            "image/png": "[encoded data removed]"
          },
          "metadata": {}
        }
      ]
    },
    {
      "cell_type": "markdown",
      "source": [
        "###Insights do gráfico de linhas\n",
        "- Alta variabilidade mensal: Entre janeiro de 2003 e julho de 2005, as vendas mostram flutuações bruscas, sem tendência clara de crescimento ou queda sustentada.\n",
        "\n",
        "- Picos de vendas: Notam-se altos volumes de venda entre setembro de 2004 e fevereiro de 2005, com valores ultrapassando R$ 100.000 em alguns dias — indicando ações promocionais, sazonalidade ou campanhas específicas nesse período.\n",
        "\n",
        "- Períodos de baixa: Várias quedas acentuadas ocorrem, especialmente em abril de 2003, março de 2004 e julho de 2005, sugerindo sazonalidade negativa ou falta de campanhas nesses meses."
      ],
      "metadata": {
        "id": "MRUdH9Zpu2lD"
      }
    },
    {
      "cell_type": "code",
      "source": [
        "# Plotando o gráfico de barras- Média de vendas por linha de produto\n",
        "# Agrupar por categoria de produto e calcular a média de vendas\n",
        "\n",
        "df.groupby('PRODUCTLINE')['SALES'].mean().plot(kind='bar', color='skyblue')\n",
        "\n",
        "# Personalização do gráfico\n",
        "plt.title('Média de Vendas por Linha de Produto')\n",
        "plt.xlabel('Linha de Produto')\n",
        "plt.ylabel('Média de Vendas')\n",
        "plt.xticks(rotation=45)\n",
        "plt.tight_layout()\n",
        "plt.show()"
      ],
      "metadata": {
        "colab": {
          "base_uri": "https://localhost:8080/",
          "height": 487
        },
        "id": "quZ4UFnRwCtG",
        "outputId": "d9ad9db1-fd4f-49ad-fd50-294510d99f4c"
      },
      "execution_count": 90,
      "outputs": [
        {
          "output_type": "display_data",
          "data": {
            "text/plain": [
              "<Figure size 640x480 with 1 Axes>"
            ],
            "image/png": "[encoded data removed]"
          },
          "metadata": {}
        }
      ]
    },
    {
      "cell_type": "markdown",
      "source": [
        "###Insights do gráfico de barras\n",
        "- Classic Cars lidera com folga\n",
        "A linha \"Classic Cars\" tem a maior média de vendas, superando R$ 4.000 por pedido — indicando forte valor agregado por transação.\n",
        "\n",
        "- Motorcycles e Trucks and Buses também se destacam\n",
        "Ambas apresentam médias acima de R$ 3.500, ficando entre os produtos de maior rentabilidade média da empresa.\n",
        "\n",
        "- Ships e Trains têm menor desempenho médio\n",
        "Essas categorias ficam com médias próximas de R$ 3.000, sugerindo produtos com menor ticket médio ou relevância comercial reduzida."
      ],
      "metadata": {
        "id": "lD1Eij_AxxIL"
      }
    },
    {
      "cell_type": "code",
      "source": [
        "# Gráfico de Dispersão\n",
        "plt.scatter(df['QUANTITYORDERED'], df['SALES'])\n",
        "plt.title('Dispersão: Quantidade vs Vendas')\n",
        "plt.xlabel('Quantidade')\n",
        "plt.ylabel('Vendas')\n",
        "plt.show()"
      ],
      "metadata": {
        "colab": {
          "base_uri": "https://localhost:8080/",
          "height": 472
        },
        "id": "yiOwtnOLy1vb",
        "outputId": "96b2169f-71e2-4960-e6d1-db6d1636d169"
      },
      "execution_count": 91,
      "outputs": [
        {
          "output_type": "display_data",
          "data": {
            "text/plain": [
              "<Figure size 640x480 with 1 Axes>"
            ],
            "image/png": "[encoded data removed]"
          },
          "metadata": {}
        }
      ]
    },
    {
      "cell_type": "markdown",
      "source": [
        "###Insights do gráfico de dispersão\n",
        "- Correlação positiva geral:\n",
        "A maior parte dos pontos concentra-se entre quantidades de 20 a 50 e valores de venda entre R$ 2.000 e R$ 8.000, indicando uma relação direta: quanto maior a quantidade, maior a venda.\n",
        "\n",
        "- Presença de outliers:\n",
        "Há pontos com valores de venda acima de R$ 12.000 mesmo com quantidades abaixo de 60, sugerindo produtos de alto valor unitário ou condições especiais de venda.\n",
        "\n",
        "- Alta densidade intermediária:\n",
        "O gráfico mostra alta concentração de vendas para pedidos entre 25 e 40 unidades, revelando um padrão dominante de pedidos médios, ideal para ações comerciais focadas nesse perfil."
      ],
      "metadata": {
        "id": "OaLPAXap0uzY"
      }
    },
    {
      "cell_type": "code",
      "source": [],
      "metadata": {
        "id": "M3QLQRbt1Ntn"
      },
      "execution_count": null,
      "outputs": []
    }
  ]
}